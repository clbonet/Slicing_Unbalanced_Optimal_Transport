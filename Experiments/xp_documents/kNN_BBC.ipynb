{
 "cells": [
  {
   "cell_type": "code",
   "execution_count": 1,
   "id": "6b9587f9",
   "metadata": {},
   "outputs": [],
   "source": [
    "import numpy as np\n",
    "import scipy.io as sio\n",
    "import matplotlib.pyplot as plt\n",
    "\n",
    "from utils_knn import *"
   ]
  },
  {
   "cell_type": "markdown",
   "id": "b76c028b",
   "metadata": {},
   "source": [
    "# BBC"
   ]
  },
  {
   "cell_type": "code",
   "execution_count": 2,
   "id": "afd9ecc3",
   "metadata": {},
   "outputs": [],
   "source": [
    "mat_contents = sio.loadmat(\"./data/bbcsport-emd_tr_te_split.mat\")\n",
    "\n",
    "idx_train = mat_contents[\"TR\"]-1\n",
    "idx_test = mat_contents[\"TE\"]-1\n",
    "y = mat_contents[\"Y\"][0]\n",
    "\n",
    "X = mat_contents[\"X\"][0]\n",
    "w = mat_contents[\"BOW_X\"][0]\n",
    "\n",
    "dataset = \"BBC\"\n",
    "path = \"./results_BBC/\""
   ]
  },
  {
   "cell_type": "markdown",
   "id": "8ae1c7fd",
   "metadata": {},
   "source": [
    "### Results"
   ]
  },
  {
   "cell_type": "markdown",
   "id": "02a45d1a",
   "metadata": {},
   "source": [
    "#### OT"
   ]
  },
  {
   "cell_type": "code",
   "execution_count": 4,
   "id": "6a453ebc",
   "metadata": {},
   "outputs": [
    {
     "data": {
      "text/plain": [
       "0.9454545454545455"
      ]
     },
     "execution_count": 4,
     "metadata": {},
     "output_type": "execute_result"
    }
   ],
   "source": [
    "d_sw = np.loadtxt(path + \"d_w_BBC_k0\")\n",
    "acc_w = np.mean(get_acc_knn(d_sw, y, idx_train, idx_test))\n",
    "\n",
    "acc_w"
   ]
  },
  {
   "cell_type": "markdown",
   "id": "5d0f0f6c",
   "metadata": {},
   "source": [
    "#### UOT"
   ]
  },
  {
   "cell_type": "code",
   "execution_count": 5,
   "id": "16797436",
   "metadata": {},
   "outputs": [
    {
     "data": {
      "text/plain": [
       "0.9672727272727274"
      ]
     },
     "execution_count": 5,
     "metadata": {},
     "output_type": "execute_result"
    }
   ],
   "source": [
    "d_sw = np.loadtxt(path + \"d_uw_BBC_rho1.0_k0\")\n",
    "acc_uw = np.mean(get_acc_knn(d_sw, y, idx_train, idx_test))\n",
    "\n",
    "acc_uw"
   ]
  },
  {
   "cell_type": "markdown",
   "id": "04fec222",
   "metadata": {},
   "source": [
    "#### Sinkhorn UOT"
   ]
  },
  {
   "cell_type": "code",
   "execution_count": 6,
   "id": "10578fc3",
   "metadata": {},
   "outputs": [
    {
     "name": "stdout",
     "output_type": "stream",
     "text": [
      "[0.29454545 0.47909091 0.65363636 0.95454545 0.94545455 0.94818182]\n"
     ]
    }
   ],
   "source": [
    "rhos_sinkhorn = [0.01, 0.05, 0.1, 1.0, 5.0, 10.0]\n",
    "L_mean_sinkhorn = np.zeros((len(rhos_sinkhorn),))\n",
    "\n",
    "for i, rho in enumerate(rhos_sinkhorn):\n",
    "    d_sw = np.loadtxt(path + \"d_sinkhorn_BBC_rho\"+str(rho)+\"_reg0.1_k0\")\n",
    "    L_acc = get_acc_knn(d_sw, y, idx_train, idx_test)\n",
    "    L_mean_sinkhorn[i] = np.mean(L_acc)\n",
    "\n",
    "print(L_mean_sinkhorn)"
   ]
  },
  {
   "cell_type": "markdown",
   "id": "895ad335",
   "metadata": {},
   "source": [
    "#### SOT"
   ]
  },
  {
   "cell_type": "code",
   "execution_count": 7,
   "id": "248f4c91",
   "metadata": {},
   "outputs": [
    {
     "name": "stdout",
     "output_type": "stream",
     "text": [
      "0.8939393939393939 0.007618063690894892\n"
     ]
    }
   ],
   "source": [
    "L_sw = np.zeros((3,))\n",
    "\n",
    "for k in range(3):\n",
    "    d_sw = np.loadtxt(path + \"d_projs500_sw_BBC_k\"+str(k))\n",
    "    acc_sw = np.mean(get_acc_knn(d_sw, y, idx_train, idx_test))\n",
    "    L_sw[k] = acc_sw\n",
    "    \n",
    "print(np.mean(L_sw), np.std(L_sw))"
   ]
  },
  {
   "cell_type": "markdown",
   "id": "53ab24f9",
   "metadata": {},
   "source": [
    "#### SUOT"
   ]
  },
  {
   "cell_type": "code",
   "execution_count": 8,
   "id": "c3d33701",
   "metadata": {},
   "outputs": [
    {
     "name": "stdout",
     "output_type": "stream",
     "text": [
      "[0.22393939 0.25787879 0.22121212 0.89363636 0.90121212 0.89272727\n",
      " 0.89242424] [0.01330576 0.00631293 0.00701566 0.00196386 0.00154516 0.00519589\n",
      " 0.00366153]\n"
     ]
    }
   ],
   "source": [
    "rhos = [0.0001, 0.0005, 0.001, 0.005, 0.01, 0.1, 1.0]\n",
    "L_mean_suw = np.zeros((len(rhos), 3))\n",
    "\n",
    "for k in range(3):\n",
    "    for i, rho in enumerate(rhos):\n",
    "        d_sw = np.loadtxt(path + \"d_projs500_suw_BBC_rho1\"+str(rho)+\"_rho2\"+str(rho)+\"_k\"+str(k))\n",
    "        L_acc = get_acc_knn(d_sw, y, idx_train, idx_test)\n",
    "        L_mean_suw[i, k] = np.mean(L_acc)\n",
    "        \n",
    "print(np.mean(L_mean_suw, axis=-1), np.std(L_mean_suw, axis=-1))"
   ]
  },
  {
   "cell_type": "markdown",
   "id": "367b203d",
   "metadata": {},
   "source": [
    "#### USOT"
   ]
  },
  {
   "cell_type": "code",
   "execution_count": 9,
   "id": "4ea650b9",
   "metadata": {},
   "outputs": [
    {
     "name": "stdout",
     "output_type": "stream",
     "text": [
      "[0.76363636 0.92363636 0.91575758 0.89727273 0.8969697  0.88818182\n",
      " 0.89060606] [0.00680301 0.00074227 0.00350783 0.00148454 0.00366153 0.00148454\n",
      " 0.00482951]\n"
     ]
    }
   ],
   "source": [
    "rhos = [0.0001, 0.0005, 0.001, 0.005, 0.01, 0.1, 1.0]\n",
    "L_mean_usw = np.zeros((len(rhos), 3))\n",
    "\n",
    "for k in range(3):\n",
    "    for i, rho in enumerate(rhos):\n",
    "        d_sw = np.loadtxt(path + \"d_projs500_usw_BBC_rho1\"+str(rho)+\"_rho2\"+str(rho)+\"_k\"+str(k))\n",
    "        L_acc = get_acc_knn(d_sw, y, idx_train, idx_test)\n",
    "        L_mean_usw[i, k] = np.mean(L_acc)\n",
    "        \n",
    "print(np.mean(L_mean_usw, axis=-1), np.std(L_mean_usw, axis=-1))"
   ]
  },
  {
   "cell_type": "code",
   "execution_count": null,
   "id": "330dfb0b",
   "metadata": {},
   "outputs": [],
   "source": []
  },
  {
   "cell_type": "code",
   "execution_count": 10,
   "id": "34a77a8c",
   "metadata": {},
   "outputs": [],
   "source": [
    "rhos_usw = [0.0001, 0.00011, 0.00012, 0.00013, 0.00014, 0.00015, 0.00016, 0.00017, 0.00018, 0.00019, \n",
    "            0.0002, 0.000205, 0.000208, 0.000209, 0.00021, 0.000211, 0.000212, 0.000215, 0.00022, 0.0003, \n",
    "            0.0004, 0.0005, 0.0006, 0.0007, 0.0008, 0.0009, 0.001, 0.005, 0.01, 0.1, 1.0]"
   ]
  },
  {
   "cell_type": "code",
   "execution_count": 11,
   "id": "f533c6a8",
   "metadata": {},
   "outputs": [
    {
     "name": "stdout",
     "output_type": "stream",
     "text": [
      "[0.76363636 0.80212121 0.83575758 0.86969697 0.88848485 0.9030303\n",
      " 0.91030303 0.91666667 0.91909091 0.92333333 0.93090909 0.91848485\n",
      " 0.92393939 0.92575758 0.93515152 0.92848485 0.93151515 0.92787879\n",
      " 0.92757576 0.92636364 0.92848485 0.92363636 0.91969697 0.9269697\n",
      " 0.92272727 0.91363636 0.91575758 0.89727273 0.8969697  0.88818182\n",
      " 0.89060606] [0.00680301 0.0059536  0.00422072 0.00380903 0.00281019 0.00834297\n",
      " 0.00154516 0.00631293 0.00296908 0.0008571  0.00074227 0.00521353\n",
      " 0.00422072 0.00622504 0.00042855 0.00299985 0.00422072 0.00154516\n",
      " 0.00238606 0.00647096 0.00281019 0.00074227 0.00701566 0.00042855\n",
      " 0.00267629 0.00589158 0.00350783 0.00148454 0.00366153 0.00148454\n",
      " 0.00482951]\n"
     ]
    }
   ],
   "source": [
    "L_mean_usw_v2 = np.zeros((len(rhos_usw), 3))\n",
    "\n",
    "for k in range(3):\n",
    "    for i, rho in enumerate(rhos_usw):\n",
    "        d_sw = np.loadtxt(path + \"d_projs500_usw_BBC_rho1\"+str(rho)+\"_rho2\"+str(rho)+\"_k\"+str(k))\n",
    "        L_acc = get_acc_knn(d_sw, y, idx_train, idx_test)\n",
    "        L_mean_usw_v2[i, k] = np.mean(L_acc)\n",
    "        \n",
    "print(np.mean(L_mean_usw_v2, axis=-1), np.std(L_mean_usw_v2, axis=-1))"
   ]
  },
  {
   "cell_type": "code",
   "execution_count": 12,
   "id": "2c967793",
   "metadata": {},
   "outputs": [
    {
     "name": "stdout",
     "output_type": "stream",
     "text": [
      "0.0001 0.7636363636363636 0.00680301343049807\n",
      "0.00011 0.8021212121212121 0.005953600819511703\n",
      "0.00012 0.8357575757575759 0.0042207237203588195\n",
      "0.00013 0.8696969696969697 0.0038090318454474534\n",
      "0.00014 0.8884848484848483 0.0028101874228774882\n",
      "0.00015 0.903030303030303 0.00834296963511286\n",
      "0.00016 0.9103030303030303 0.001545157428361438\n",
      "0.00017 0.9166666666666666 0.006312929289696898\n",
      "0.00018 0.9190909090909091 0.002969078476100886\n",
      "0.00019 0.9233333333333332 0.0008570991287109199\n",
      "0.0002 0.9309090909090908 0.0007422696190251649\n",
      "0.000205 0.9184848484848486 0.005213530464874357\n",
      "0.000208 0.9239393939393938 0.004220723720358782\n",
      "0.000209 0.9257575757575758 0.006225041995204182\n",
      "0.00021 0.9351515151515151 0.00042854956435556463\n",
      "0.000211 0.9284848484848486 0.002999846950488399\n",
      "0.000212 0.9315151515151515 0.004220723720358732\n",
      "0.000215 0.9278787878787879 0.0015451574283614816\n",
      "0.00022 0.9275757575757577 0.0023860629921247786\n",
      "0.0003 0.9263636363636364 0.006470956516382634\n",
      "0.0004 0.9284848484848484 0.0028101874228774683\n",
      "0.0005 0.9236363636363637 0.0007422696190251649\n",
      "0.0006 0.9196969696969696 0.007015658728963803\n",
      "0.0007 0.9269696969696971 0.00042854956435551227\n",
      "0.0008 0.9227272727272727 0.002676291171614441\n",
      "0.0009 0.9136363636363636 0.00589158245309799\n",
      "0.001 0.9157575757575757 0.0035078293644819187\n",
      "0.005 0.8972727272727271 0.0014845392380504658\n",
      "0.01 0.8969696969696971 0.0036615290829074545\n",
      "0.1 0.8881818181818182 0.0014845392380504205\n",
      "1.0 0.8906060606060606 0.004829508318336182\n"
     ]
    }
   ],
   "source": [
    "L_means = np.mean(L_mean_usw_v2, axis=-1)\n",
    "L_std = np.std(L_mean_usw_v2, axis=-1)\n",
    "\n",
    "for i, rho in enumerate(rhos_usw):\n",
    "    print(rho, L_means[i], L_std[i])"
   ]
  },
  {
   "cell_type": "markdown",
   "id": "8b2ba188",
   "metadata": {},
   "source": [
    "#### SUSOT"
   ]
  },
  {
   "cell_type": "code",
   "execution_count": 13,
   "id": "e80ee4f6",
   "metadata": {
    "scrolled": true
   },
   "outputs": [
    {
     "name": "stdout",
     "output_type": "stream",
     "text": [
      "[0.76787879 0.92454545 0.91484848 0.89848485 0.89606061 0.88757576\n",
      " 0.89272727] [0.00373601 0.00392772 0.00042855 0.00477213 0.00557114 0.00281019\n",
      " 0.00128565]\n"
     ]
    }
   ],
   "source": [
    "rhos = [0.0001, 0.0005, 0.001, 0.005, 0.01, 0.1, 1.0]\n",
    "L_mean_susw = np.zeros((len(rhos), 3))\n",
    "\n",
    "for i, rho in enumerate(rhos):\n",
    "    for k in range(3):\n",
    "        d_sw = np.loadtxt(path + \"d_projs500_stochastic_usw_BBC_rho1\"+str(rho)+\"_rho2\"+str(rho)+\"_k\"+str(k))\n",
    "        L_acc = get_acc_knn(d_sw, y, idx_train, idx_test)\n",
    "        L_mean_susw[i, k] = np.mean(L_acc)\n",
    "        \n",
    "print(np.mean(L_mean_susw, axis=-1), np.std(L_mean_susw, axis=-1))"
   ]
  },
  {
   "cell_type": "code",
   "execution_count": 14,
   "id": "87b965ad",
   "metadata": {},
   "outputs": [
    {
     "name": "stdout",
     "output_type": "stream",
     "text": [
      "[0.76787879 0.92727273 0.92515152 0.92454545 0.91484848 0.89848485\n",
      " 0.89606061 0.88757576 0.89272727] [0.00373601 0.00267629 0.00042855 0.00392772 0.00042855 0.00477213\n",
      " 0.00557114 0.00281019 0.00128565]\n"
     ]
    }
   ],
   "source": [
    "rhos_susw = [0.0001, 0.0002, 0.00021, 0.0005, 0.001, 0.005, 0.01, 0.1, 1.0]\n",
    "\n",
    "L_mean_susw = np.zeros((len(rhos_susw), 3))\n",
    "\n",
    "for i, rho in enumerate(rhos_susw):\n",
    "    for k in range(3):\n",
    "        d_sw = np.loadtxt(path + \"d_projs500_stochastic_usw_BBC_rho1\"+str(rho)+\"_rho2\"+str(rho)+\"_k\"+str(k))\n",
    "        L_acc = get_acc_knn(d_sw, y, idx_train, idx_test)\n",
    "        L_mean_susw[i, k] = np.mean(L_acc)\n",
    "        \n",
    "print(np.mean(L_mean_susw, axis=-1), np.std(L_mean_susw, axis=-1))"
   ]
  },
  {
   "cell_type": "markdown",
   "id": "5650aa4b",
   "metadata": {},
   "source": [
    "### Figures"
   ]
  },
  {
   "cell_type": "markdown",
   "id": "27f18224",
   "metadata": {},
   "source": [
    "#### Ablation $\\rho$"
   ]
  },
  {
   "cell_type": "code",
   "execution_count": 15,
   "id": "dc3cf122",
   "metadata": {},
   "outputs": [
    {
     "data": {
      "image/png": "[encoded data removed]",
      "text/plain": [
       "<Figure size 400x200 with 1 Axes>"
      ]
     },
     "metadata": {},
     "output_type": "display_data"
    }
   ],
   "source": [
    "m_usw = np.mean(L_mean_usw, axis=1)\n",
    "s_usw = np.std(L_mean_usw, axis=1)\n",
    "\n",
    "m_suw = np.mean(L_mean_suw, axis=1)\n",
    "s_suw = np.std(L_mean_suw, axis=1)\n",
    "\n",
    "m_sw = np.mean(L_sw) * np.ones(len(rhos))\n",
    "s_sw = np.std(L_sw) * np.ones(len(rhos))\n",
    "\n",
    "\n",
    "fig, ax = plt.subplots(figsize=(4,2)) #, gridspec_kw={\"width_ratios\":[1,2]})\n",
    "\n",
    "plt.plot(rhos, m_sw, label=\"SOT\")\n",
    "plt.fill_between(rhos, m_sw-2*s_sw/np.sqrt(3), m_sw+2*s_sw/np.sqrt(3), alpha=0.5)\n",
    "\n",
    "plt.plot(rhos, m_usw, label=\"USOT\")\n",
    "plt.fill_between(rhos, m_usw-2*s_usw/np.sqrt(3), m_usw+2*s_usw/np.sqrt(3), alpha=0.5)\n",
    "\n",
    "plt.plot(rhos, m_suw, label=\"SUOT\")\n",
    "plt.fill_between(rhos, m_suw-2*s_suw/np.sqrt(3), m_suw+2*s_suw/np.sqrt(3), alpha=0.5)\n",
    "\n",
    "# plt.plot(rhos, acc_w * np.ones(len(rhos)), label=\"OT\")\n",
    "# plt.plot(rhos, L_mean_sinkhorn, label=\"Sinkhorn\")\n",
    "# plt.plot(rhos, L_mean_sinkhorn[-1] * np.ones(len(rhos)), label=\"Sinkhorn\")\n",
    "\n",
    "\n",
    "plt.xlabel(r\"$\\rho$\", fontsize=13)\n",
    "plt.ylabel(\"Accuracy\", fontsize=13)\n",
    "plt.xscale(\"log\")\n",
    "plt.ylim(0.8, 0.93)\n",
    "# plt.grid(True)\n",
    "plt.legend(fontsize=13)\n",
    "# plt.title(\"Accuracy - BBCSport\", fontsize=13)\n",
    "\n",
    "# plt.savefig(\"./Figures/ablation_rho_BBC_noW_v2.pdf\", format=\"pdf\", bbox_inches=\"tight\")\n",
    "\n",
    "\n",
    "plt.show()"
   ]
  },
  {
   "cell_type": "code",
   "execution_count": 17,
   "id": "a167f983",
   "metadata": {},
   "outputs": [
    {
     "data": {
      "image/png": "[encoded data removed]",
      "text/plain": [
       "<Figure size 400x200 with 1 Axes>"
      ]
     },
     "metadata": {},
     "output_type": "display_data"
    }
   ],
   "source": [
    "m_usw = np.mean(L_mean_usw_v2, axis=1)\n",
    "s_usw = np.std(L_mean_usw_v2, axis=1)\n",
    "\n",
    "m_suw = np.mean(L_mean_suw, axis=1)\n",
    "s_suw = np.std(L_mean_suw, axis=1)\n",
    "\n",
    "m_sw = np.mean(L_sw) * np.ones(len(rhos))\n",
    "s_sw = np.std(L_sw) * np.ones(len(rhos))\n",
    "\n",
    "\n",
    "fig, ax = plt.subplots(figsize=(4,2)) #, gridspec_kw={\"width_ratios\":[1,2]})\n",
    "\n",
    "plt.plot(rhos, m_sw, label=\"SOT\")\n",
    "plt.fill_between(rhos, m_sw-2*s_sw/np.sqrt(3), m_sw+2*s_sw/np.sqrt(3), alpha=0.5)\n",
    "\n",
    "plt.plot(rhos_usw, m_usw, label=\"USOT\")\n",
    "plt.fill_between(rhos_usw, m_usw-2*s_usw/np.sqrt(3), m_usw+2*s_usw/np.sqrt(3), alpha=0.5)\n",
    "\n",
    "plt.plot(rhos, m_suw, label=\"SUOT\")\n",
    "plt.fill_between(rhos, m_suw-2*s_suw/np.sqrt(3), m_suw+2*s_suw/np.sqrt(3), alpha=0.5)\n",
    "\n",
    "# plt.plot(rhos, acc_w * np.ones(len(rhos)), label=\"OT\")\n",
    "# plt.plot(rhos, L_mean_sinkhorn, label=\"Sinkhorn\")\n",
    "# plt.plot(rhos, L_mean_sinkhorn[-1] * np.ones(len(rhos)), label=\"Sinkhorn\")\n",
    "\n",
    "\n",
    "plt.xlabel(r\"$\\rho$\", fontsize=13)\n",
    "plt.ylabel(\"Accuracy\", fontsize=13)\n",
    "plt.xscale(\"log\")\n",
    "plt.ylim(0.8, 0.94)\n",
    "# plt.grid(True)\n",
    "plt.legend(fontsize=13)\n",
    "# plt.title(\"Accuracy - BBCSport\", fontsize=13)\n",
    "\n",
    "# plt.savefig(\"./Figures/ablation_rho_BBC_noW_v3.pdf\", format=\"pdf\", bbox_inches=\"tight\")\n",
    "\n",
    "# plt.grid(True)\n",
    "plt.show()"
   ]
  },
  {
   "cell_type": "markdown",
   "id": "c24c5bec",
   "metadata": {},
   "source": [
    "#### Ablation FW"
   ]
  },
  {
   "cell_type": "code",
   "execution_count": 3,
   "id": "c19a4af7",
   "metadata": {},
   "outputs": [],
   "source": [
    "iters = [1,2,3,4,5,10,15,20,25,50,75,100]\n",
    "rho = 0.0005\n",
    "rho_suw = 0.01\n",
    "    \n",
    "L_mean_usw = np.zeros((len(iters), 3))\n",
    "ts_usw = np.zeros((len(iters), 3))\n",
    "    \n",
    "L_mean_suw = np.zeros((len(iters), 3))\n",
    "ts_suw = np.zeros((len(iters), 3))\n",
    "\n",
    "for k in range(3):\n",
    "    for i, n_iter in enumerate(iters):\n",
    "        d_sw = np.loadtxt(\"./results_inner_iter/d_projs500_usw_BBC_rho1\"+str(rho)+\"_rho2\"+str(rho)+\"_iter\"+str(n_iter)+\"_k\"+str(k))\n",
    "        L_acc = get_acc_knn(d_sw, y, idx_train, idx_test)\n",
    "        L_mean_usw[i, k] = np.mean(L_acc)\n",
    "        \n",
    "        t_sw = np.loadtxt(\"./results_inner_iter/ts_projs500_usw_BBC_rho1\"+str(rho)+\"_rho2\"+str(rho)+\"_iter\"+str(n_iter)+\"_k\"+str(k))\n",
    "        ts_usw[i, k] = np.mean(t_sw)\n",
    "        \n",
    "        d_sw = np.loadtxt(\"./results_inner_iter/d_projs500_suw_BBC_rho1\"+str(rho_suw)+\"_rho2\"+str(rho_suw)+\"_iter\"+str(n_iter)+\"_k\"+str(k))\n",
    "        L_acc = get_acc_knn(d_sw, y, idx_train, idx_test)\n",
    "        L_mean_suw[i, k] = np.mean(L_acc)\n",
    "        \n",
    "        t_sw = np.loadtxt(\"./results_inner_iter/ts_projs500_suw_BBC_rho1\"+str(rho_suw)+\"_rho2\"+str(rho_suw)+\"_iter\"+str(n_iter)+\"_k\"+str(k))\n",
    "        ts_suw[i, k] = np.mean(t_sw)"
   ]
  },
  {
   "cell_type": "code",
   "execution_count": 4,
   "id": "bb7591de",
   "metadata": {},
   "outputs": [
    {
     "data": {
      "text/plain": [
       "0.9163636363636364"
      ]
     },
     "execution_count": 4,
     "metadata": {},
     "output_type": "execute_result"
    }
   ],
   "source": [
    "d_sw = np.loadtxt(path + \"d_w_BBC_k0\")\n",
    "acc_w = np.mean(get_acc_knn(d_sw, y, idx_train, idx_test))\n",
    "\n",
    "acc_w"
   ]
  },
  {
   "cell_type": "code",
   "execution_count": 5,
   "id": "75266c1d",
   "metadata": {},
   "outputs": [
    {
     "name": "stdout",
     "output_type": "stream",
     "text": [
      "0.8939393939393939 0.007618063690894892\n"
     ]
    }
   ],
   "source": [
    "L_sw = np.zeros((3,))\n",
    "\n",
    "for k in range(3):\n",
    "    d_sw = np.loadtxt(path + \"d_projs500_sw_BBC_k\"+str(k))\n",
    "    acc_sw = np.mean(get_acc_knn(d_sw, y, idx_train, idx_test))\n",
    "    L_sw[k] = acc_sw\n",
    "    \n",
    "print(np.mean(L_sw), np.std(L_sw))"
   ]
  },
  {
   "cell_type": "code",
   "execution_count": 6,
   "id": "a6c856e4",
   "metadata": {},
   "outputs": [
    {
     "data": {
      "image/png": "[encoded data removed]",
      "text/plain": [
       "<Figure size 400x200 with 1 Axes>"
      ]
     },
     "metadata": {},
     "output_type": "display_data"
    }
   ],
   "source": [
    "k = 8\n",
    "\n",
    "m_usw = np.mean(L_mean_usw, axis=1)\n",
    "s_usw = np.std(L_mean_usw, axis=1)\n",
    "\n",
    "m_suw = np.mean(L_mean_suw, axis=1)\n",
    "s_suw = np.std(L_mean_suw, axis=1)\n",
    "\n",
    "m_sw = np.mean(L_sw) * np.ones(len(iters))\n",
    "s_sw = np.std(L_sw) * np.ones(len(iters))\n",
    "\n",
    "\n",
    "fig, ax = plt.subplots(figsize=(4,2)) #, gridspec_kw={\"width_ratios\":[1,2]})\n",
    "\n",
    "plt.plot(iters[:k], m_sw[:k], label=\"SOT\")\n",
    "plt.fill_between(iters[:k], (m_sw-2*s_sw/np.sqrt(3))[:k], (m_sw+2*s_sw/np.sqrt(3))[:k], alpha=0.5)\n",
    "\n",
    "\n",
    "plt.plot(iters[:k], m_usw[:k], label=\"USOT\")\n",
    "plt.fill_between(iters[:k], (m_usw-2*s_usw/np.sqrt(3))[:k], (m_usw+2*s_usw/np.sqrt(3))[:k], alpha=0.5)\n",
    "\n",
    "\n",
    "plt.plot(iters[:k], m_suw[:k], label=\"SUOT\")\n",
    "plt.fill_between(iters[:k], (m_suw-2*s_suw/np.sqrt(3))[:k], (m_suw+2*s_suw/np.sqrt(3))[:k], alpha=0.5)\n",
    "\n",
    "# plt.plot(iters, acc_w * np.ones(len(iters)), label=\"OT\")\n",
    "# plt.plot(rhos, L_mean_sinkhorn, label=\"Sinkhorn\")\n",
    "# plt.plot(rhos, L_mean_sinkhorn[-1] * np.ones(len(rhos)), label=\"Sinkhorn\")\n",
    "\n",
    "\n",
    "plt.xlabel(\"Iterations FW\", fontsize=13)\n",
    "plt.ylabel(\"Accuracy\", fontsize=13)\n",
    "# plt.xscale(\"log\")\n",
    "# plt.ylim(0.8, 0.93)\n",
    "# plt.grid(True)\n",
    "# plt.xticks(iters)\n",
    "plt.legend(fontsize=13)\n",
    "# plt.title(\"BBCSport\", fontsize=13)\n",
    "plt.savefig(\"./Figures/ablation_fw_BBC.pdf\", format=\"pdf\", bbox_inches=\"tight\")\n",
    "plt.show()"
   ]
  },
  {
   "cell_type": "code",
   "execution_count": null,
   "id": "bf800c32",
   "metadata": {},
   "outputs": [],
   "source": []
  },
  {
   "cell_type": "markdown",
   "id": "bc990d71",
   "metadata": {},
   "source": [
    "#### Ablation Projections"
   ]
  },
  {
   "cell_type": "code",
   "execution_count": 7,
   "id": "9c7f0136",
   "metadata": {},
   "outputs": [],
   "source": [
    "projs = np.logspace(0, 3, 10, dtype=int)\n",
    "rho = 0.0005\n",
    "rho_suw = 0.01\n",
    "    \n",
    "L_mean_usw = np.zeros((len(projs), 3))\n",
    "L_mean_sw = np.zeros((len(projs), 3))\n",
    "L_mean_suw = np.zeros((len(projs), 3))\n",
    "\n",
    "for k in range(3):\n",
    "    for i, n_projs in enumerate(projs):\n",
    "        d_sw = np.loadtxt(\"./results_projs/d_projs\"+str(n_projs)+\"_usw_BBC_rho1\"+str(rho)+\"_rho2\"+str(rho)+\"_k\"+str(k))\n",
    "        L_acc = get_acc_knn(d_sw, y, idx_train, idx_test)\n",
    "        L_mean_usw[i, k] = np.mean(L_acc)\n",
    "        \n",
    "        \n",
    "        d_sw = np.loadtxt(\"./results_projs/d_projs\"+str(n_projs)+\"_sw_BBC_k\"+str(k))\n",
    "        L_acc = get_acc_knn(d_sw, y, idx_train, idx_test)\n",
    "        L_mean_sw[i, k] = np.mean(L_acc)\n",
    "        \n",
    "        d_sw = np.loadtxt(\"./results_projs/d_projs\"+str(n_projs)+\"_suw_BBC_rho1\"+str(rho_suw)+\"_rho2\"+str(rho_suw)+\"_k\"+str(k))\n",
    "        L_acc = get_acc_knn(d_sw, y, idx_train, idx_test)\n",
    "        L_mean_suw[i, k] = np.mean(L_acc)"
   ]
  },
  {
   "cell_type": "code",
   "execution_count": 8,
   "id": "2a6cfab4",
   "metadata": {},
   "outputs": [
    {
     "data": {
      "image/png": "[encoded data removed]",
      "text/plain": [
       "<Figure size 400x200 with 1 Axes>"
      ]
     },
     "metadata": {},
     "output_type": "display_data"
    }
   ],
   "source": [
    "m_usw = np.mean(L_mean_usw, axis=1)\n",
    "s_usw = np.std(L_mean_usw, axis=1)\n",
    "\n",
    "m_suw = np.mean(L_mean_suw, axis=1)\n",
    "s_suw = np.std(L_mean_suw, axis=1)\n",
    "\n",
    "m_sw = np.mean(L_mean_sw, axis=1)\n",
    "s_sw = np.std(L_mean_sw, axis=1)\n",
    "\n",
    "fig, ax = plt.subplots(figsize=(4,2)) #, gridspec_kw={\"width_ratios\":[1,2]})\n",
    "\n",
    "plt.plot(projs, m_sw, label=\"SOT\")\n",
    "plt.fill_between(projs, m_sw-2*s_sw/np.sqrt(3), m_sw+2*s_sw/np.sqrt(3), alpha=0.5)\n",
    "\n",
    "\n",
    "plt.plot(projs, m_usw, label=\"USOT\")\n",
    "plt.fill_between(projs, m_usw-2*s_usw/np.sqrt(3), m_usw+2*s_usw/np.sqrt(3), alpha=0.5)\n",
    "\n",
    "\n",
    "plt.plot(projs, m_suw, label=\"SUOT\")\n",
    "plt.fill_between(projs, m_suw-2*s_suw/np.sqrt(3), m_suw+2*s_suw/np.sqrt(3), alpha=0.5)\n",
    "\n",
    "# plt.plot(projs, acc_w * np.ones(len(projs)), label=\"OT\")\n",
    "# plt.plot(rhos, L_mean_sinkhorn, label=\"Sinkhorn\")\n",
    "# plt.plot(rhos, L_mean_sinkhorn[-1] * np.ones(len(rhos)), label=\"Sinkhorn\")\n",
    "\n",
    "\n",
    "plt.xlabel(\"Number of Projections\", fontsize=13)\n",
    "plt.ylabel(\"Accuracy\", fontsize=13)\n",
    "plt.xscale(\"log\")\n",
    "plt.ylim(0.8, 0.93)\n",
    "# plt.grid(True)\n",
    "plt.legend(fontsize=13)\n",
    "# plt.title(\"BBCSport\", fontsize=13)\n",
    "\n",
    "plt.savefig(\"./Figures/ablation_projs_BBC.pdf\", format=\"pdf\", bbox_inches=\"tight\")\n",
    "\n",
    "plt.show()"
   ]
  },
  {
   "cell_type": "code",
   "execution_count": null,
   "id": "a285babe",
   "metadata": {},
   "outputs": [],
   "source": []
  },
  {
   "cell_type": "markdown",
   "id": "e40723e5",
   "metadata": {},
   "source": [
    "### Cross Validation on $\\rho$"
   ]
  },
  {
   "cell_type": "markdown",
   "id": "c8dc58a8",
   "metadata": {},
   "source": [
    "#### USOT"
   ]
  },
  {
   "cell_type": "code",
   "execution_count": 3,
   "id": "39d78b5a",
   "metadata": {},
   "outputs": [
    {
     "name": "stdout",
     "output_type": "stream",
     "text": [
      "0 [0.9090909090909091, 0.9409090909090909, 0.9090909090909091, 0.9181818181818182, 0.9272727272727272]\n",
      "1 [0.9045454545454545, 0.9454545454545454, 0.9227272727272727, 0.9181818181818182, 0.9227272727272727]\n",
      "2 [0.9136363636363637, 0.9545454545454546, 0.9318181818181818, 0.9181818181818182, 0.9]\n",
      "0.9224242424242425 0.0011338355717495777\n"
     ]
    }
   ],
   "source": [
    "rhos = [0.0001, 0.0005, 0.001, 0.01, 0.1, 1.0]\n",
    "\n",
    "\n",
    "L_mean_usw = []\n",
    "\n",
    "for k in range(3):\n",
    "    L_acc = get_acc_knn_cv_rho(dataset, \"usw\", k, rhos, y, idx_train, idx_test)\n",
    "    print(k, L_acc)\n",
    "    L_mean_usw.append(np.mean(L_acc))\n",
    "    \n",
    "print(np.mean(L_mean_usw, axis=-1), np.std(L_mean_usw, axis=-1))"
   ]
  },
  {
   "cell_type": "code",
   "execution_count": null,
   "id": "19d42868",
   "metadata": {},
   "outputs": [],
   "source": []
  },
  {
   "cell_type": "code",
   "execution_count": 11,
   "id": "0430c6b7",
   "metadata": {},
   "outputs": [
    {
     "name": "stdout",
     "output_type": "stream",
     "text": [
      "0 [0.9, 0.9545454545454546, 0.9272727272727272, 0.9136363636363637, 0.9090909090909091]\n",
      "1 [0.9136363636363637, 0.95, 0.9181818181818182, 0.9181818181818182, 0.9181818181818182]\n",
      "2 [0.9363636363636364, 0.9545454545454546, 0.9227272727272727, 0.9272727272727272, 0.9272727272727272]\n",
      "0.9260606060606061 0.005471354571293261\n"
     ]
    }
   ],
   "source": [
    "rhos = [0.0001, 0.00011, 0.00012, 0.00013, 0.00014, 0.00015, 0.00016, 0.00017, 0.00018, 0.00019, \n",
    "        0.0002, 0.000205, 0.000208, 0.000209, 0.00021, 0.000211, 0.000212, 0.000215, 0.00022, 0.0003, \n",
    "        0.0004, 0.0005, 0.0006, 0.0007, 0.0008, 0.0009, 0.001, 0.005, 0.01, 0.1, 1.0]\n",
    "\n",
    "L_mean_usw = []\n",
    "\n",
    "for k in range(3):\n",
    "    L_acc = get_acc_knn_cv_rho(dataset, \"usw\", k, rhos, y, idx_train, idx_test)\n",
    "    print(k, L_acc)\n",
    "    L_mean_usw.append(np.mean(L_acc))\n",
    "    \n",
    "print(np.mean(L_mean_usw, axis=-1), np.std(L_mean_usw, axis=-1))"
   ]
  },
  {
   "cell_type": "markdown",
   "id": "4d6ff264",
   "metadata": {},
   "source": [
    "#### SUOT"
   ]
  },
  {
   "cell_type": "code",
   "execution_count": 4,
   "id": "8daae4dc",
   "metadata": {},
   "outputs": [
    {
     "name": "stdout",
     "output_type": "stream",
     "text": [
      "0 [0.9045454545454545, 0.9272727272727272, 0.8727272727272727, 0.8954545454545455, 0.8863636363636364]\n",
      "1 [0.9363636363636364, 0.9227272727272727, 0.8818181818181818, 0.8772727272727273, 0.9227272727272727]\n",
      "2 [0.8954545454545455, 0.9227272727272727, 0.8772727272727273, 0.8727272727272727, 0.9045454545454545]\n",
      "0.9 0.005891582453098076\n"
     ]
    }
   ],
   "source": [
    "rhos = [0.0001, 0.001, 0.01, 0.1, 1.0]\n",
    "\n",
    "L_mean_usw = []\n",
    "\n",
    "for k in range(3):\n",
    "    L_acc = get_acc_knn_cv_rho(dataset, \"suw\", k, rhos, y, idx_train, idx_test)\n",
    "    print(k, L_acc)\n",
    "    L_mean_usw.append(np.mean(L_acc))\n",
    "    \n",
    "print(np.mean(L_mean_usw, axis=-1), np.std(L_mean_usw, axis=-1))"
   ]
  },
  {
   "cell_type": "code",
   "execution_count": null,
   "id": "2c97bac4",
   "metadata": {},
   "outputs": [],
   "source": []
  }
 ],
 "metadata": {
  "kernelspec": {
   "display_name": "Python 3 (ipykernel)",
   "language": "python",
   "name": "python3"
  },
  "language_info": {
   "codemirror_mode": {
    "name": "ipython",
    "version": 3
   },
   "file_extension": ".py",
   "mimetype": "text/x-python",
   "name": "python",
   "nbconvert_exporter": "python",
   "pygments_lexer": "ipython3",
   "version": "3.12.7"
  }
 },
 "nbformat": 4,
 "nbformat_minor": 5
}
